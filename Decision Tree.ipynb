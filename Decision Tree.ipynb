{
  "nbformat": 4,
  "nbformat_minor": 0,
  "metadata": {
    "colab": {
      "provenance": []
    },
    "kernelspec": {
      "name": "python3",
      "display_name": "Python 3"
    },
    "language_info": {
      "name": "python"
    }
  },
  "cells": [
    {
      "cell_type": "code",
      "execution_count": 1,
      "metadata": {
        "colab": {
          "base_uri": "https://localhost:8080/"
        },
        "id": "AqHl2YHz334i",
        "outputId": "4edd32dd-c876-475a-8e56-3578543e9793"
      },
      "outputs": [
        {
          "output_type": "stream",
          "name": "stdout",
          "text": [
            "Collecting pyspark\n",
            "  Downloading pyspark-3.5.2.tar.gz (317.3 MB)\n",
            "\u001b[2K     \u001b[90m━━━━━━━━━━━━━━━━━━━━━━━━━━━━━━━━━━━━━━━━\u001b[0m \u001b[32m317.3/317.3 MB\u001b[0m \u001b[31m5.0 MB/s\u001b[0m eta \u001b[36m0:00:00\u001b[0m\n",
            "\u001b[?25h  Preparing metadata (setup.py) ... \u001b[?25l\u001b[?25hdone\n",
            "Requirement already satisfied: py4j==0.10.9.7 in /usr/local/lib/python3.10/dist-packages (from pyspark) (0.10.9.7)\n",
            "Building wheels for collected packages: pyspark\n",
            "  Building wheel for pyspark (setup.py) ... \u001b[?25l\u001b[?25hdone\n",
            "  Created wheel for pyspark: filename=pyspark-3.5.2-py2.py3-none-any.whl size=317812365 sha256=6bd8bbdb0c182186f330504dfe077cfa1313e53019f800123e5b73d3e8659def\n",
            "  Stored in directory: /root/.cache/pip/wheels/34/34/bd/03944534c44b677cd5859f248090daa9fb27b3c8f8e5f49574\n",
            "Successfully built pyspark\n",
            "Installing collected packages: pyspark\n",
            "Successfully installed pyspark-3.5.2\n"
          ]
        }
      ],
      "source": [
        "!pip install pyspark"
      ]
    },
    {
      "cell_type": "code",
      "source": [
        "from pyspark.sql import SparkSession\n",
        "from pyspark.ml.feature import StringIndexer, VectorAssembler, StandardScaler\n",
        "from pyspark.ml.classification import LogisticRegression\n",
        "from pyspark.ml.evaluation import MulticlassClassificationEvaluator\n",
        "from pyspark.sql.functions import col\n",
        "\n",
        "# Initialize Spark Session\n",
        "spark = SparkSession.builder.appName(\"HotelBookingClassification\").getOrCreate()\n",
        "\n",
        "# Load the dataset\n",
        "data = spark.read.csv(\"/content/merged_file (2).csv\", header=True, inferSchema=True)\n",
        "\n",
        "# Index categorical features (String to Numeric) with handleInvalid='skip'\n",
        "indexers = [StringIndexer(inputCol=column, outputCol=column+\"_index\", handleInvalid='skip').fit(data)\n",
        "            for column in ['deposit_type', 'country', 'customer_type', 'hotel', 'meal', 'distribution_channel', 'reserved_room_type', 'assigned_room_type']]  # Include all string columns here\n",
        "\n",
        "# Apply StringIndexer to convert categorical variables\n",
        "for indexer in indexers:\n",
        "    data = indexer.transform(data)\n",
        "\n",
        "# Selecting the top features\n",
        "selected_features = [\n",
        "    \"hotel_index\",  # Use indexed columns\n",
        "    \"lead_time\",\n",
        "    \"stays_in_weekend_nights\",\n",
        "    \"stays_in_week_nights\",\n",
        "    \"adults\",\n",
        "    \"children\",\n",
        "    \"babies\",\n",
        "    \"meal_index\",  # Use indexed columns\n",
        "    \"country_index\",  # Use indexed columns\n",
        "    \"distribution_channel_index\",  # Use indexed columns\n",
        "    \"is_repeated_guest\",\n",
        "    \"previous_cancellations\",\n",
        "    \"previous_bookings_not_canceled\",\n",
        "    \"reserved_room_type_index\",  # Use indexed columns\n",
        "    \"assigned_room_type_index\",  # Use indexed columns\n",
        "    \"booking_changes\",\n",
        "    \"deposit_type_index\",  # Use indexed columns\n",
        "    \"days_in_waiting_list\",\n",
        "    \"customer_type_index\",  # Use indexed columns\n",
        "    \"adr\",\n",
        "    \"required_car_parking_spaces\",\n",
        "    \"total_of_special_requests\",\n",
        "    \"Distribution_Id\"\n",
        "]\n",
        "\n",
        "# Assemble features into a single vector\n",
        "assembler = VectorAssembler(inputCols=selected_features, outputCol=\"features\")\n",
        "data = assembler.transform(data)\n",
        "\n",
        "# Standardizing the features\n",
        "scaler = StandardScaler(inputCol=\"features\", outputCol=\"scaledFeatures\")\n",
        "scaler_model = scaler.fit(data)\n",
        "data = scaler_model.transform(data)\n",
        "\n",
        "# Select only necessary columns\n",
        "data = data.select(\"scaledFeatures\", col(\"is_canceled\").alias(\"label\"))\n",
        "\n",
        "# Train-test split\n",
        "train_data, test_data = data.randomSplit([0.7, 0.3], seed=42)\n",
        "\n",
        "\n",
        "\n",
        "\n",
        "\n",
        "\n",
        "\n"
      ],
      "metadata": {
        "id": "IgQv1eTi38MH"
      },
      "execution_count": 4,
      "outputs": []
    },
    {
      "cell_type": "code",
      "source": [
        "from pyspark.ml.classification import DecisionTreeClassifier\n",
        "\n",
        "# Train Decision Tree model\n",
        "dt = DecisionTreeClassifier(featuresCol='scaledFeatures', labelCol='label')\n",
        "dt_model = dt.fit(train_data)\n",
        "\n",
        "# Make predictions\n",
        "predictions = dt_model.transform(test_data)\n",
        "\n",
        "# Evaluate the model\n",
        "dt_accuracy = evaluator.evaluate(predictions)\n",
        "print(f\"Decision Tree Accuracy: {dt_accuracy}\")\n",
        "\n",
        "# Feature Importance\n",
        "dt_feature_importances = dt_model.featureImportances\n",
        "dt_feature_importance = [(selected_features[i], dt_feature_importances[i]) for i in range(len(selected_features))]\n",
        "dt_sorted_importance = sorted(dt_feature_importance, key=lambda x: x[1], reverse=True)\n",
        "\n",
        "print(\"\\nFeature Importance (Decision Tree):\")\n",
        "for feature, importance in dt_sorted_importance:\n",
        "    print(f\"{feature}: {importance}\")\n"
      ],
      "metadata": {
        "colab": {
          "base_uri": "https://localhost:8080/"
        },
        "id": "E9ve9E4R4YO7",
        "outputId": "52acba0a-f89f-401a-a1ef-7a29824f3ae8"
      },
      "execution_count": 5,
      "outputs": [
        {
          "output_type": "stream",
          "name": "stdout",
          "text": [
            "Decision Tree Accuracy: 0.7924387910569394\n",
            "\n",
            "Feature Importance (Decision Tree):\n",
            "deposit_type_index: 0.4818659225068816\n",
            "country_index: 0.15458354237858682\n",
            "lead_time: 0.12731818293119956\n",
            "hotel_index: 0.08647683544414661\n",
            "customer_type_index: 0.06905293138495466\n",
            "Distribution_Id: 0.04118918206424597\n",
            "required_car_parking_spaces: 0.0377635526273485\n",
            "previous_bookings_not_canceled: 0.0009115423287586655\n",
            "adr: 0.0003284205198892327\n",
            "previous_cancellations: 0.0002291277458405811\n",
            "children: 0.0001427102646231762\n",
            "stays_in_weekend_nights: 0.0001380498035244681\n",
            "stays_in_week_nights: 0.0\n",
            "adults: 0.0\n",
            "babies: 0.0\n",
            "meal_index: 0.0\n",
            "distribution_channel_index: 0.0\n",
            "is_repeated_guest: 0.0\n",
            "reserved_room_type_index: 0.0\n",
            "assigned_room_type_index: 0.0\n",
            "booking_changes: 0.0\n",
            "days_in_waiting_list: 0.0\n",
            "total_of_special_requests: 0.0\n"
          ]
        }
      ]
    }
  ]
}