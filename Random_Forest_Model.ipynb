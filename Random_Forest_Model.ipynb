{
  "nbformat": 4,
  "nbformat_minor": 0,
  "metadata": {
    "colab": {
      "provenance": []
    },
    "kernelspec": {
      "name": "python3",
      "display_name": "Python 3"
    },
    "language_info": {
      "name": "python"
    }
  },
  "cells": [
    {
      "cell_type": "code",
      "execution_count": 1,
      "metadata": {
        "colab": {
          "base_uri": "https://localhost:8080/"
        },
        "id": "y42D4OLaGegI",
        "outputId": "60436e3c-124a-44e8-8013-be3da72d6071"
      },
      "outputs": [
        {
          "output_type": "stream",
          "name": "stdout",
          "text": [
            "Collecting pyspark\n",
            "  Downloading pyspark-3.5.2.tar.gz (317.3 MB)\n",
            "\u001b[2K     \u001b[90m━━━━━━━━━━━━━━━━━━━━━━━━━━━━━━━━━━━━━━━━\u001b[0m \u001b[32m317.3/317.3 MB\u001b[0m \u001b[31m1.5 MB/s\u001b[0m eta \u001b[36m0:00:00\u001b[0m\n",
            "\u001b[?25h  Preparing metadata (setup.py) ... \u001b[?25l\u001b[?25hdone\n",
            "Requirement already satisfied: py4j==0.10.9.7 in /usr/local/lib/python3.10/dist-packages (from pyspark) (0.10.9.7)\n",
            "Building wheels for collected packages: pyspark\n",
            "  Building wheel for pyspark (setup.py) ... \u001b[?25l\u001b[?25hdone\n",
            "  Created wheel for pyspark: filename=pyspark-3.5.2-py2.py3-none-any.whl size=317812365 sha256=b4dbac98bc00388288a1c07b2c1ac00260c936053667bfb90ede31d9b80429d2\n",
            "  Stored in directory: /root/.cache/pip/wheels/34/34/bd/03944534c44b677cd5859f248090daa9fb27b3c8f8e5f49574\n",
            "Successfully built pyspark\n",
            "Installing collected packages: pyspark\n",
            "Successfully installed pyspark-3.5.2\n"
          ]
        }
      ],
      "source": [
        "!pip install pyspark"
      ]
    },
    {
      "cell_type": "code",
      "source": [
        "from pyspark.sql import SparkSession\n",
        "from pyspark.ml.feature import StringIndexer, VectorAssembler, StandardScaler\n",
        "from pyspark.ml.classification import LogisticRegression\n",
        "from pyspark.ml.evaluation import MulticlassClassificationEvaluator\n",
        "from pyspark.sql.functions import col\n",
        "from pyspark.ml.classification import LogisticRegression, RandomForestClassifier\n",
        "\n",
        "# Initialize Spark Session\n",
        "spark = SparkSession.builder.appName(\"HotelBookingClassification\").getOrCreate()\n",
        "\n",
        "# Load the dataset\n",
        "data = spark.read.csv(\"/content/merged_file.csv\", header=True, inferSchema=True)\n",
        "\n",
        "data.printSchema()\n",
        "# Index categorical features (String to Numeric) with handleInvalid='skip'\n",
        "indexers = [StringIndexer(inputCol=column, outputCol=column+\"_index\", handleInvalid='skip').fit(data)\n",
        "            for column in ['deposit_type', 'country', 'customer_type', 'hotel', 'meal', 'distribution_channel', 'reserved_room_type', 'assigned_room_type']]  # Include all string columns here\n",
        "\n",
        "# Apply StringIndexer to convert categorical variables\n",
        "for indexer in indexers:\n",
        "    data = indexer.transform(data)\n",
        "\n",
        "# Selecting the top features\n",
        "selected_features = [\n",
        "    \"hotel_index\",  # Use indexed columns\n",
        "    \"lead_time\",\n",
        "    \"stays_in_weekend_nights\",\n",
        "    \"stays_in_week_nights\",\n",
        "    \"adults\",\n",
        "    \"children\",\n",
        "    \"babies\",\n",
        "    \"meal_index\",  # Use indexed columns\n",
        "    \"country_index\",  # Use indexed columns\n",
        "    \"distribution_channel_index\",  # Use indexed columns\n",
        "    \"is_repeated_guest\",\n",
        "    \"previous_cancellations\",\n",
        "    \"previous_bookings_not_canceled\",\n",
        "    \"reserved_room_type_index\",  # Use indexed columns\n",
        "    \"assigned_room_type_index\",  # Use indexed columns\n",
        "    \"booking_changes\",\n",
        "    \"deposit_type_index\",  # Use indexed columns\n",
        "    \"days_in_waiting_list\",\n",
        "    \"customer_type_index\",  # Use indexed columns\n",
        "    \"adr\",\n",
        "    \"required_car_parking_spaces\",\n",
        "    \"total_of_special_requests\",\n",
        "    \"Distribution_Id\"\n",
        "]\n",
        "\n",
        "# Assemble features into a single vector\n",
        "assembler = VectorAssembler(inputCols=selected_features, outputCol=\"features\")\n",
        "data = assembler.transform(data)\n",
        "\n",
        "# Standardizing the features\n",
        "scaler = StandardScaler(inputCol=\"features\", outputCol=\"scaledFeatures\")\n",
        "scaler_model = scaler.fit(data)\n",
        "data = scaler_model.transform(data)\n",
        "\n",
        "# Select only necessary columns\n",
        "data = data.select(\"scaledFeatures\", col(\"is_canceled\").alias(\"label\"))\n",
        "\n",
        "# Train-test split\n",
        "train_data, test_data = data.randomSplit([0.7, 0.3], seed=42)\n",
        "\n",
        "# Train Random Forest model\n",
        "rf = RandomForestClassifier(featuresCol='scaledFeatures', labelCol='label', numTrees=100)\n",
        "rf_model = rf.fit(train_data)\n",
        "\n",
        "# Make predictions\n",
        "predictions = rf_model.transform(test_data)\n",
        "\n",
        "# Evaluate the model\n",
        "evaluator = MulticlassClassificationEvaluator(labelCol=\"label\", predictionCol=\"prediction\", metricName=\"accuracy\")\n",
        "accuracy = evaluator.evaluate(predictions)\n",
        "print(\" \")\n",
        "print(f\"Random Forest Accuracy: {accuracy}\")\n",
        "\n",
        "# Feature Importance\n",
        "feature_importances = rf_model.featureImportances\n",
        "feature_importance = [(selected_features[i], feature_importances[i]) for i in range(len(selected_features))]\n",
        "sorted_importance = sorted(feature_importance, key=lambda x: x[1], reverse=True)\n",
        "\n",
        "print(\"\\nFeature Importance (Random Forest):\")\n",
        "for feature, importance in sorted_importance:\n",
        "    print(f\"{feature}: {importance}\")\n"
      ],
      "metadata": {
        "colab": {
          "base_uri": "https://localhost:8080/"
        },
        "id": "Vl4IaOYDG8HH",
        "outputId": "9b185ff6-d0d5-4df2-f424-7a35ede8f39a"
      },
      "execution_count": 2,
      "outputs": [
        {
          "output_type": "stream",
          "name": "stdout",
          "text": [
            "root\n",
            " |-- hotel: string (nullable = true)\n",
            " |-- is_canceled: integer (nullable = true)\n",
            " |-- lead_time: integer (nullable = true)\n",
            " |-- arrival_date_week_number: integer (nullable = true)\n",
            " |-- stays_in_weekend_nights: integer (nullable = true)\n",
            " |-- stays_in_week_nights: integer (nullable = true)\n",
            " |-- adults: integer (nullable = true)\n",
            " |-- children: integer (nullable = true)\n",
            " |-- babies: integer (nullable = true)\n",
            " |-- meal: string (nullable = true)\n",
            " |-- country: string (nullable = true)\n",
            " |-- distribution_channel: string (nullable = true)\n",
            " |-- is_repeated_guest: integer (nullable = true)\n",
            " |-- previous_cancellations: integer (nullable = true)\n",
            " |-- previous_bookings_not_canceled: integer (nullable = true)\n",
            " |-- reserved_room_type: string (nullable = true)\n",
            " |-- assigned_room_type: string (nullable = true)\n",
            " |-- booking_changes: integer (nullable = true)\n",
            " |-- deposit_type: string (nullable = true)\n",
            " |-- days_in_waiting_list: integer (nullable = true)\n",
            " |-- customer_type: string (nullable = true)\n",
            " |-- adr: double (nullable = true)\n",
            " |-- required_car_parking_spaces: integer (nullable = true)\n",
            " |-- total_of_special_requests: integer (nullable = true)\n",
            " |-- reservation_status: string (nullable = true)\n",
            " |-- reservation_status_date: timestamp (nullable = true)\n",
            " |-- arrival_date: date (nullable = true)\n",
            " |-- Distribution_Id: integer (nullable = true)\n",
            "\n",
            " \n",
            "Random Forest Accuracy: 0.7839741790625877\n",
            "\n",
            "Feature Importance (Random Forest):\n",
            "deposit_type_index: 0.29506275842165175\n",
            "country_index: 0.20955953934071686\n",
            "lead_time: 0.11343459020486757\n",
            "previous_cancellations: 0.09553639012121984\n",
            "total_of_special_requests: 0.07905128665204815\n",
            "required_car_parking_spaces: 0.04313765357594847\n",
            "booking_changes: 0.027614762259015792\n",
            "customer_type_index: 0.025336582820347984\n",
            "assigned_room_type_index: 0.024846395030650937\n",
            "Distribution_Id: 0.023674159689410668\n",
            "distribution_channel_index: 0.02352764896323947\n",
            "adr: 0.009859328932549417\n",
            "previous_bookings_not_canceled: 0.008230407561091505\n",
            "stays_in_week_nights: 0.005510183319003313\n",
            "hotel_index: 0.003599473608191641\n",
            "reserved_room_type_index: 0.0035350796000146005\n",
            "is_repeated_guest: 0.0032027843413052278\n",
            "adults: 0.0017752455010336965\n",
            "stays_in_weekend_nights: 0.0016479969774480295\n",
            "children: 0.0008365161262749753\n",
            "days_in_waiting_list: 0.0006066810152958301\n",
            "meal_index: 0.0004145359386742354\n",
            "babies: 0.0\n"
          ]
        }
      ]
    },
    {
      "cell_type": "code",
      "source": [],
      "metadata": {
        "id": "eDvIUzwPLBUV"
      },
      "execution_count": 2,
      "outputs": []
    }
  ]
}