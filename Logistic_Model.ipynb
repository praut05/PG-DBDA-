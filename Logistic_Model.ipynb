{
  "nbformat": 4,
  "nbformat_minor": 0,
  "metadata": {
    "colab": {
      "provenance": []
    },
    "kernelspec": {
      "name": "python3",
      "display_name": "Python 3"
    },
    "language_info": {
      "name": "python"
    }
  },
  "cells": [
    {
      "cell_type": "code",
      "source": [
        "!pip install pyspark"
      ],
      "metadata": {
        "colab": {
          "base_uri": "https://localhost:8080/"
        },
        "id": "u7_cO3MOIAgb",
        "outputId": "cf5ea4d4-6919-43c9-91c6-d7b737bd08cc"
      },
      "execution_count": 1,
      "outputs": [
        {
          "output_type": "stream",
          "name": "stdout",
          "text": [
            "Collecting pyspark\n",
            "  Downloading pyspark-3.5.2.tar.gz (317.3 MB)\n",
            "\u001b[2K     \u001b[90m━━━━━━━━━━━━━━━━━━━━━━━━━━━━━━━━━━━━━━━━\u001b[0m \u001b[32m317.3/317.3 MB\u001b[0m \u001b[31m4.7 MB/s\u001b[0m eta \u001b[36m0:00:00\u001b[0m\n",
            "\u001b[?25h  Preparing metadata (setup.py) ... \u001b[?25l\u001b[?25hdone\n",
            "Requirement already satisfied: py4j==0.10.9.7 in /usr/local/lib/python3.10/dist-packages (from pyspark) (0.10.9.7)\n",
            "Building wheels for collected packages: pyspark\n",
            "  Building wheel for pyspark (setup.py) ... \u001b[?25l\u001b[?25hdone\n",
            "  Created wheel for pyspark: filename=pyspark-3.5.2-py2.py3-none-any.whl size=317812365 sha256=c0c089d0a6eb750a2d0346bced2b845c52c1d58a0691341b8cc0ef0de748b45f\n",
            "  Stored in directory: /root/.cache/pip/wheels/34/34/bd/03944534c44b677cd5859f248090daa9fb27b3c8f8e5f49574\n",
            "Successfully built pyspark\n",
            "Installing collected packages: pyspark\n",
            "Successfully installed pyspark-3.5.2\n"
          ]
        }
      ]
    },
    {
      "cell_type": "code",
      "execution_count": 2,
      "metadata": {
        "id": "bGs-ihoXH0_Y"
      },
      "outputs": [],
      "source": [
        "from pyspark.sql import SparkSession\n",
        "from pyspark.ml.feature import StringIndexer, VectorAssembler, StandardScaler\n",
        "from pyspark.ml.classification import LogisticRegression\n",
        "from pyspark.ml.evaluation import MulticlassClassificationEvaluator\n",
        "from pyspark.sql.functions import col\n",
        "\n",
        "# Initialize Spark Session\n",
        "spark = SparkSession.builder.appName(\"HotelBookingClassification\").getOrCreate()\n",
        "\n",
        "# Load the dataset\n",
        "data = spark.read.csv(\"/content/merged_file.csv\", header=True, inferSchema=True)\n",
        "\n",
        "# Index categorical features (String to Numeric) with handleInvalid='skip'\n",
        "indexers = [StringIndexer(inputCol=column, outputCol=column+\"_index\", handleInvalid='skip').fit(data)\n",
        "            for column in ['deposit_type', 'country', 'customer_type', 'hotel', 'meal', 'distribution_channel', 'reserved_room_type', 'assigned_room_type']]  # Include all string columns here\n",
        "\n",
        "# Apply StringIndexer to convert categorical variables\n",
        "for indexer in indexers:\n",
        "    data = indexer.transform(data)\n",
        "\n",
        "# Selecting the top features\n",
        "selected_features = [\n",
        "    \"hotel_index\",  # Use indexed columns\n",
        "    \"lead_time\",\n",
        "    \"stays_in_weekend_nights\",\n",
        "    \"stays_in_week_nights\",\n",
        "    \"adults\",\n",
        "    \"children\",\n",
        "    \"babies\",\n",
        "    \"meal_index\",  # Use indexed columns\n",
        "    \"country_index\",  # Use indexed columns\n",
        "    \"distribution_channel_index\",  # Use indexed columns\n",
        "    \"is_repeated_guest\",\n",
        "    \"previous_cancellations\",\n",
        "    \"previous_bookings_not_canceled\",\n",
        "    \"reserved_room_type_index\",  # Use indexed columns\n",
        "    \"assigned_room_type_index\",  # Use indexed columns\n",
        "    \"booking_changes\",\n",
        "    \"deposit_type_index\",  # Use indexed columns\n",
        "    \"days_in_waiting_list\",\n",
        "    \"customer_type_index\",  # Use indexed columns\n",
        "    \"adr\",\n",
        "    \"required_car_parking_spaces\",\n",
        "    \"total_of_special_requests\",\n",
        "    \"Distribution_Id\"\n",
        "]\n",
        "\n",
        "# Assemble features into a single vector\n",
        "assembler = VectorAssembler(inputCols=selected_features, outputCol=\"features\")\n",
        "data = assembler.transform(data)\n",
        "\n",
        "# Standardizing the features\n",
        "scaler = StandardScaler(inputCol=\"features\", outputCol=\"scaledFeatures\")\n",
        "scaler_model = scaler.fit(data)\n",
        "data = scaler_model.transform(data)\n",
        "\n",
        "# Select only necessary columns\n",
        "data = data.select(\"scaledFeatures\", col(\"is_canceled\").alias(\"label\"))\n",
        "\n",
        "# Train-test split\n",
        "train_data, test_data = data.randomSplit([0.7, 0.3], seed=42)\n",
        "\n"
      ]
    },
    {
      "cell_type": "code",
      "source": [
        "# Train Logistic Regression model\n",
        "lr = LogisticRegression(featuresCol='scaledFeatures', labelCol='label', maxIter=100)\n",
        "lr_model = lr.fit(train_data)\n",
        "\n",
        "# Make predictions\n",
        "predictions = lr_model.transform(test_data)\n",
        "\n",
        "# Evaluate the model\n",
        "evaluator = MulticlassClassificationEvaluator(labelCol=\"label\", predictionCol=\"prediction\", metricName=\"accuracy\")\n",
        "accuracy = evaluator.evaluate(predictions)\n",
        "print(f\"LogisticRegression Accuracy: {accuracy}\")\n",
        "\n",
        "# Feature importance (coefficients)\n",
        "coefficients = lr_model.coefficients.toArray()\n",
        "feature_importance = [(selected_features[i], coefficients[i]) for i in range(len(coefficients))]\n",
        "sorted_importance = sorted(feature_importance, key=lambda x: abs(x[1]), reverse=True)\n",
        "\n",
        "print(\"\\nFeature Importance (Coefficients):\")\n",
        "for feature, coeff in sorted_importance:\n",
        "    print(f\"{feature}: {coeff}\")"
      ],
      "metadata": {
        "colab": {
          "base_uri": "https://localhost:8080/"
        },
        "id": "uNjiicHsMzGN",
        "outputId": "e30bac39-3877-45f2-d8bd-22139d65bee3"
      },
      "execution_count": 3,
      "outputs": [
        {
          "output_type": "stream",
          "name": "stdout",
          "text": [
            "LogisticRegression Accuracy: 0.7910188043783328\n",
            "\n",
            "Feature Importance (Coefficients):\n",
            "required_car_parking_spaces: -9.648986848456225\n",
            "previous_cancellations: 2.5578133668982623\n",
            "deposit_type_index: 1.2475470323101092\n",
            "previous_bookings_not_canceled: -0.7125351595653298\n",
            "assigned_room_type_index: -0.5154199507666305\n",
            "customer_type_index: -0.45003437741049607\n",
            "total_of_special_requests: -0.44501484930844554\n",
            "reserved_room_type_index: 0.3770767407561245\n",
            "lead_time: 0.35191739782943315\n",
            "adr: 0.2613300698767953\n",
            "booking_changes: -0.2519872849323774\n",
            "distribution_channel_index: -0.22287723924900876\n",
            "is_repeated_guest: -0.13875229450737947\n",
            "country_index: -0.07635709598923597\n",
            "Distribution_Id: 0.07119107291494627\n",
            "adults: 0.0666361697630424\n",
            "stays_in_week_nights: 0.0637046146022792\n",
            "children: 0.06114398101395882\n",
            "hotel_index: -0.05374166806378894\n",
            "meal_index: 0.043544868551667754\n",
            "days_in_waiting_list: -0.032244350132075245\n",
            "stays_in_weekend_nights: 0.019960858034741086\n",
            "babies: 0.00841409780043186\n"
          ]
        }
      ]
    },
    {
      "cell_type": "code",
      "source": [],
      "metadata": {
        "id": "pZhq1NvC10zF"
      },
      "execution_count": null,
      "outputs": []
    }
  ]
}