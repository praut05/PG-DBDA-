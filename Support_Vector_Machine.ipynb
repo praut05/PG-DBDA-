{
  "nbformat": 4,
  "nbformat_minor": 0,
  "metadata": {
    "colab": {
      "provenance": []
    },
    "kernelspec": {
      "name": "python3",
      "display_name": "Python 3"
    },
    "language_info": {
      "name": "python"
    }
  },
  "cells": [
    {
      "cell_type": "code",
      "execution_count": 1,
      "metadata": {
        "colab": {
          "base_uri": "https://localhost:8080/"
        },
        "id": "-X6dNwuv4xGd",
        "outputId": "7404b48f-2a2a-474d-e7f0-745f1d6841ac"
      },
      "outputs": [
        {
          "output_type": "stream",
          "name": "stdout",
          "text": [
            "Collecting pyspark\n",
            "  Downloading pyspark-3.5.2.tar.gz (317.3 MB)\n",
            "\u001b[2K     \u001b[90m━━━━━━━━━━━━━━━━━━━━━━━━━━━━━━━━━━━━━━━━\u001b[0m \u001b[32m317.3/317.3 MB\u001b[0m \u001b[31m4.2 MB/s\u001b[0m eta \u001b[36m0:00:00\u001b[0m\n",
            "\u001b[?25h  Preparing metadata (setup.py) ... \u001b[?25l\u001b[?25hdone\n",
            "Requirement already satisfied: py4j==0.10.9.7 in /usr/local/lib/python3.10/dist-packages (from pyspark) (0.10.9.7)\n",
            "Building wheels for collected packages: pyspark\n",
            "  Building wheel for pyspark (setup.py) ... \u001b[?25l\u001b[?25hdone\n",
            "  Created wheel for pyspark: filename=pyspark-3.5.2-py2.py3-none-any.whl size=317812365 sha256=a42791ddaafed85424c43e2fa79f39ac2cbcc7f29cda575ee3ca71f015d474db\n",
            "  Stored in directory: /root/.cache/pip/wheels/34/34/bd/03944534c44b677cd5859f248090daa9fb27b3c8f8e5f49574\n",
            "Successfully built pyspark\n",
            "Installing collected packages: pyspark\n",
            "Successfully installed pyspark-3.5.2\n"
          ]
        }
      ],
      "source": [
        "!pip install pyspark"
      ]
    },
    {
      "cell_type": "code",
      "source": [
        "from pyspark.sql import SparkSession\n",
        "from pyspark.ml.feature import StringIndexer, VectorAssembler, StandardScaler\n",
        "from pyspark.ml.classification import LogisticRegression\n",
        "from pyspark.ml.evaluation import MulticlassClassificationEvaluator\n",
        "from pyspark.sql.functions import col\n",
        "\n",
        "# Initialize Spark Session\n",
        "spark = SparkSession.builder.appName(\"HotelBookingClassification\").getOrCreate()\n",
        "\n",
        "# Load the dataset\n",
        "data = spark.read.csv(\"/content/merged_file.csv\", header=True, inferSchema=True)\n",
        "\n",
        "# Index categorical features (String to Numeric) with handleInvalid='skip'\n",
        "indexers = [StringIndexer(inputCol=column, outputCol=column+\"_index\", handleInvalid='skip').fit(data)\n",
        "            for column in ['deposit_type', 'country', 'customer_type', 'hotel', 'meal', 'distribution_channel', 'reserved_room_type', 'assigned_room_type']]  # Include all string columns here\n",
        "\n",
        "# Apply StringIndexer to convert categorical variables\n",
        "for indexer in indexers:\n",
        "    data = indexer.transform(data)\n",
        "\n",
        "# Selecting the top features\n",
        "selected_features = [\n",
        "    \"hotel_index\",  # Use indexed columns\n",
        "    \"lead_time\",\n",
        "    \"stays_in_weekend_nights\",\n",
        "    \"stays_in_week_nights\",\n",
        "    \"adults\",\n",
        "    \"children\",\n",
        "    \"babies\",\n",
        "    \"meal_index\",  # Use indexed columns\n",
        "    \"country_index\",  # Use indexed columns\n",
        "    \"distribution_channel_index\",  # Use indexed columns\n",
        "    \"is_repeated_guest\",\n",
        "    \"previous_cancellations\",\n",
        "    \"previous_bookings_not_canceled\",\n",
        "    \"reserved_room_type_index\",  # Use indexed columns\n",
        "    \"assigned_room_type_index\",  # Use indexed columns\n",
        "    \"booking_changes\",\n",
        "    \"deposit_type_index\",  # Use indexed columns\n",
        "    \"days_in_waiting_list\",\n",
        "    \"customer_type_index\",  # Use indexed columns\n",
        "    \"adr\",\n",
        "    \"required_car_parking_spaces\",\n",
        "    \"total_of_special_requests\",\n",
        "    \"Distribution_Id\"\n",
        "]\n",
        "\n",
        "# Assemble features into a single vector\n",
        "assembler = VectorAssembler(inputCols=selected_features, outputCol=\"features\")\n",
        "data = assembler.transform(data)\n",
        "\n",
        "# Standardizing the features\n",
        "scaler = StandardScaler(inputCol=\"features\", outputCol=\"scaledFeatures\")\n",
        "scaler_model = scaler.fit(data)\n",
        "data = scaler_model.transform(data)\n",
        "\n",
        "# Select only necessary columns\n",
        "data = data.select(\"scaledFeatures\", col(\"is_canceled\").alias(\"label\"))\n",
        "\n",
        "# Train-test split\n",
        "train_data, test_data = data.randomSplit([0.7, 0.3], seed=42)\n",
        "\n",
        "from pyspark.ml.classification import LinearSVC\n",
        "\n",
        "# Train SVM model\n",
        "svm = LinearSVC(featuresCol='scaledFeatures', labelCol='label', maxIter=100)\n",
        "svm_model = svm.fit(train_data)\n",
        "\n",
        "# Make predictions\n",
        "predictions = svm_model.transform(test_data)\n",
        "\n",
        "# Evaluate the model\n",
        "evaluator = MulticlassClassificationEvaluator(labelCol=\"label\", predictionCol=\"prediction\", metricName=\"accuracy\")\n",
        "svm_accuracy = evaluator.evaluate(predictions)\n",
        "print(f\"Support Vector Machine Accuracy: {svm_accuracy}\")\n"
      ],
      "metadata": {
        "colab": {
          "base_uri": "https://localhost:8080/"
        },
        "id": "6eFvmuTw43Fj",
        "outputId": "348cfb5d-96b0-4309-e0a8-5485ffee7206"
      },
      "execution_count": 3,
      "outputs": [
        {
          "output_type": "stream",
          "name": "stdout",
          "text": [
            "Support Vector Machine Accuracy: 0.7646084760033679\n"
          ]
        }
      ]
    },
    {
      "cell_type": "code",
      "source": [],
      "metadata": {
        "id": "NZGvynM05lWi"
      },
      "execution_count": null,
      "outputs": []
    }
  ]
}